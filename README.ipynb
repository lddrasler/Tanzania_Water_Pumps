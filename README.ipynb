{
 "cells": [
  {
   "cell_type": "markdown",
   "id": "77685220",
   "metadata": {},
   "source": [
    "# Tanzania Water Pumps\n",
    "\n",
    "# 1. Predicting Functional Status of Water Pumps in Tanzania\n",
    "\n",
    "### In this project, I will apply Machine Learning predictor models to train the classifiers on the known labels and make predictions on the functional status of water pumps with unknown status.\n",
    "\n",
    "# 2. Business Problem\n",
    "\n",
    "### The majority access to clean water in Tanzania, it is through Water Pumps. According to 2015 Tanzania Water Point Mapping Data, about 29% of these water points are non-functional. \n",
    "\n",
    "### The Goal of these predictions is to decreases the overall cost for the Tanzanian Ministry of Water.\n",
    "\n",
    "# 3. Data\n",
    "\n",
    "### The data was collected from Driven Data and it is available here:\n",
    "\n",
    "### https://www.drivendata.org/competitions/7/pump-it-up-data-mining-the-water-table/\n",
    " \n",
    "### The data has about 59 thousand values and 39 variables.These data were analyzed based on parameters including: \n",
    "\n",
    "* Construction Year;\n",
    "* Funder;\n",
    "* Installer;\n",
    "* Etc.\n",
    "\n",
    "# 4. Methods and Models\n",
    "\n",
    "### I decided to use multiple Machine Learning models to compare the results, which inclued:\n",
    "\n",
    "* DecisionTreeClassifier\n",
    "* RandomForestClassifier\n",
    "* BaggingClassifier\n",
    "* DecisionTreeClassifier\n",
    "* AdaBoost\n",
    "* GradientBoost\n",
    "* Pipeline\n",
    "* XGboost\n",
    "\n",
    "### I have also applied the method such as:\n",
    "\n",
    "* Confusion Matrix \n",
    "* ROC CURVE;\n",
    "* Parameter Grid\n",
    "\n",
    "# 5. Final Results \n",
    "\n",
    "### After carefully analyzing the results, I decided to use XGboost as my predictor \n",
    "\n",
    "#### We got a final technical result as 0.79. For future predictions, we assume that 79% will be accurate on functional Water Pumps status.\n",
    "\n",
    "# 6. Future Work \n",
    "\n",
    "#### To have a better predictor, we possible could have more accurate data with less unknown and NaN values\n",
    "#### We could have a better data collection of the construction year, to undarstand the water pump lifetime"
   ]
  }
 ],
 "metadata": {
  "kernelspec": {
   "display_name": "Python 3",
   "language": "python",
   "name": "python3"
  },
  "language_info": {
   "codemirror_mode": {
    "name": "ipython",
    "version": 3
   },
   "file_extension": ".py",
   "mimetype": "text/x-python",
   "name": "python",
   "nbconvert_exporter": "python",
   "pygments_lexer": "ipython3",
   "version": "3.8.8"
  }
 },
 "nbformat": 4,
 "nbformat_minor": 5
}
